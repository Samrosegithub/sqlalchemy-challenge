{
 "cells": [
  {
   "cell_type": "code",
   "execution_count": 1,
   "metadata": {},
   "outputs": [],
   "source": [
    "%matplotlib inline\n",
    "from matplotlib import style\n",
    "style.use('fivethirtyeight')\n",
    "import matplotlib.pyplot as plt"
   ]
  },
  {
   "cell_type": "code",
   "execution_count": 2,
   "metadata": {},
   "outputs": [],
   "source": [
    "import numpy as np\n",
    "import pandas as pd\n",
    "import datetime as dt"
   ]
  },
  {
   "cell_type": "markdown",
   "metadata": {},
   "source": [
    "# Reflect Tables into SQLAlchemy ORM"
   ]
  },
  {
   "cell_type": "code",
   "execution_count": 3,
   "metadata": {},
   "outputs": [],
   "source": [
    "# Python SQL toolkit and Object Relational Mapper\n",
    "import sqlalchemy\n",
    "from sqlalchemy.ext.automap import automap_base\n",
    "from sqlalchemy.orm import Session\n",
    "from sqlalchemy import create_engine, func"
   ]
  },
  {
   "cell_type": "code",
   "execution_count": 4,
   "metadata": {},
   "outputs": [],
   "source": [
    "# create engine to hawaii.sqlite\n",
    "engine = create_engine(\"sqlite:///Resources/hawaii.sqlite\")"
   ]
  },
  {
   "cell_type": "code",
   "execution_count": 11,
   "metadata": {},
   "outputs": [],
   "source": [
    "# reflect an existing database into a new model\n",
    "Base = automap_base()\n",
    "Base.prepare(autoload_with=engine)\n",
    "Base.classes.keys()\n",
    "# reflect the tables\n",
    "Base.metadata.create_all(engine)"
   ]
  },
  {
   "cell_type": "code",
   "execution_count": 14,
   "metadata": {},
   "outputs": [
    {
     "ename": "NameError",
     "evalue": "name 'station' is not defined",
     "output_type": "error",
     "traceback": [
      "\u001b[0;31m---------------------------------------------------------------------------\u001b[0m",
      "\u001b[0;31mNameError\u001b[0m                                 Traceback (most recent call last)",
      "\u001b[1;32m/Users/home/Desktop/Module_10/climate_starter.ipynb Cell 7\u001b[0m in \u001b[0;36m<cell line: 5>\u001b[0;34m()\u001b[0m\n\u001b[1;32m      <a href='vscode-notebook-cell:/Users/home/Desktop/Module_10/climate_starter.ipynb#W6sZmlsZQ%3D%3D?line=1'>2</a>\u001b[0m \u001b[39mfrom\u001b[39;00m \u001b[39msqlalchemy\u001b[39;00m\u001b[39m.\u001b[39;00m\u001b[39morm\u001b[39;00m \u001b[39mimport\u001b[39;00m Session\n\u001b[1;32m      <a href='vscode-notebook-cell:/Users/home/Desktop/Module_10/climate_starter.ipynb#W6sZmlsZQ%3D%3D?line=2'>3</a>\u001b[0m session \u001b[39m=\u001b[39m Session(bind\u001b[39m=\u001b[39mengine)\n\u001b[0;32m----> <a href='vscode-notebook-cell:/Users/home/Desktop/Module_10/climate_starter.ipynb#W6sZmlsZQ%3D%3D?line=4'>5</a>\u001b[0m station_list \u001b[39m=\u001b[39m session\u001b[39m.\u001b[39mquery(station)\n\u001b[1;32m      <a href='vscode-notebook-cell:/Users/home/Desktop/Module_10/climate_starter.ipynb#W6sZmlsZQ%3D%3D?line=5'>6</a>\u001b[0m \u001b[39mfor\u001b[39;00m stations \u001b[39min\u001b[39;00m station_list:\n\u001b[1;32m      <a href='vscode-notebook-cell:/Users/home/Desktop/Module_10/climate_starter.ipynb#W6sZmlsZQ%3D%3D?line=6'>7</a>\u001b[0m     \u001b[39mprint\u001b[39m(stations\u001b[39m.\u001b[39mname)\n",
      "\u001b[0;31mNameError\u001b[0m: name 'station' is not defined"
     ]
    }
   ],
   "source": [
    "# View all of the classes that automap found\n",
    "from sqlalchemy.orm import Session\n",
    "session = Session(bind=engine)\n",
    "\n",
    "station_list = session.query(station)\n",
    "for stations in station_list:\n",
    "    print(stations.name)"
   ]
  },
  {
   "cell_type": "code",
   "execution_count": null,
   "metadata": {},
   "outputs": [],
   "source": [
    "# Save references to each table\n"
   ]
  },
  {
   "cell_type": "code",
   "execution_count": null,
   "metadata": {},
   "outputs": [],
   "source": [
    "# Create our session (link) from Python to the DB\n",
    "from sqlalchemy.orm import Session\n",
    "session = Session(bind=engine)\n",
    "\n",
    "layers = session.query(Surfer_bro)\n",
    "for surfer in surfers:\n",
    "    print(surfer.name_given)\n"
   ]
  },
  {
   "cell_type": "markdown",
   "metadata": {},
   "source": [
    "# Exploratory Precipitation Analysis"
   ]
  },
  {
   "cell_type": "code",
   "execution_count": null,
   "metadata": {},
   "outputs": [],
   "source": [
    "# Find the most recent date in the data set.\n",
    "import time\n",
    "from datetime import date\n",
    "date.max"
   ]
  },
  {
   "cell_type": "code",
   "execution_count": null,
   "metadata": {},
   "outputs": [],
   "source": [
    "# Design a query to retrieve the last 12 months of precipitation data and plot the results. \n",
    "# Starting from the most recent data point in the database. \n",
    "date = []\n",
    "\n",
    "date.max\n",
    "date2 = date1 + timedelta\n",
    "\n",
    "t = d.timetuple()\n",
    "for i in t:     \n",
    "    print(i)\n",
    "2016                # year\n",
    "8                   # month\n",
    "23                  # day\n",
    "0\n",
    "\n",
    "# Calculate the date one year from the last date in data set.\n",
    "\n",
    "\n",
    "# Perform a query to retrieve the data and precipitation scores\n",
    "\n",
    "\n",
    "# Save the query results as a Pandas DataFrame and set the index to the date column\n",
    "\n",
    "\n",
    "# Sort the dataframe by date\n",
    "\n",
    "\n",
    "# Use Pandas Plotting with Matplotlib to plot the data\n",
    "\n"
   ]
  },
  {
   "cell_type": "code",
   "execution_count": null,
   "metadata": {},
   "outputs": [],
   "source": [
    "# Use Pandas to calcualte the summary statistics for the precipitation data\n",
    "station_df[[\"Percipitation\", \"Fare\"]].describe()"
   ]
  },
  {
   "cell_type": "markdown",
   "metadata": {},
   "source": [
    "# Exploratory Station Analysis"
   ]
  },
  {
   "cell_type": "code",
   "execution_count": null,
   "metadata": {},
   "outputs": [],
   "source": [
    "# Design a query to calculate the total number stations in the dataset\n",
    "# Print all of the player names in the database\n",
    "from sqlalchemy import create_engine\n",
    "from sqlalchemy import Column, Integer, String, Float\n",
    "\n",
    "from sqlalchemy.ext.declarative import declarative_base\n",
    "Base = declarative_base()\n",
    "\n",
    "class Surfer(Base):\n",
    "    __tablename__ = \"surfer\"\n",
    "\n",
    "# Create Database Connection\n",
    "engine = create_engine('sqlite:///../Resources/hawaii.sqlite')\n",
    "Base.metadata.create_all(engine)\n",
    "\n",
    "from sqlalchemy.orm import Session\n",
    "session = Session(bind=engine)\n",
    "\n",
    "# Print all of the player names in the database\n",
    "surfers = session.query(Surfer)\n",
    "for surfer in surfers:\n",
    "    print(surfer.name_given)\n",
    "    \n",
    "# Find the number of players from the USA\n",
    "surfer_num = session.query(Surfer).\\\n",
    "    filter(Surfer == 'SURFERS').count()\n",
    "print(f\"There are {surfer_num} surfers\")"
   ]
  },
  {
   "cell_type": "code",
   "execution_count": 15,
   "metadata": {},
   "outputs": [
    {
     "ename": "NameError",
     "evalue": "name 'surfer' is not defined",
     "output_type": "error",
     "traceback": [
      "\u001b[0;31m---------------------------------------------------------------------------\u001b[0m",
      "\u001b[0;31mNameError\u001b[0m                                 Traceback (most recent call last)",
      "\u001b[1;32m/Users/home/Desktop/Module_10/climate_starter.ipynb Cell 16\u001b[0m in \u001b[0;36m<cell line: 4>\u001b[0;34m()\u001b[0m\n\u001b[1;32m      <a href='vscode-notebook-cell:/Users/home/Desktop/Module_10/climate_starter.ipynb#X21sZmlsZQ%3D%3D?line=0'>1</a>\u001b[0m \u001b[39m# Design a query to find the most active stations (i.e. what stations have the most rows?)\u001b[39;00m\n\u001b[1;32m      <a href='vscode-notebook-cell:/Users/home/Desktop/Module_10/climate_starter.ipynb#X21sZmlsZQ%3D%3D?line=1'>2</a>\u001b[0m \u001b[39m# List the stations and the counts in descending order.\u001b[39;00m\n\u001b[1;32m      <a href='vscode-notebook-cell:/Users/home/Desktop/Module_10/climate_starter.ipynb#X21sZmlsZQ%3D%3D?line=2'>3</a>\u001b[0m \u001b[39m# Average height for pre-1940 players\u001b[39;00m\n\u001b[0;32m----> <a href='vscode-notebook-cell:/Users/home/Desktop/Module_10/climate_starter.ipynb#X21sZmlsZQ%3D%3D?line=3'>4</a>\u001b[0m surfer\n\u001b[1;32m      <a href='vscode-notebook-cell:/Users/home/Desktop/Module_10/climate_starter.ipynb#X21sZmlsZQ%3D%3D?line=4'>5</a>\u001b[0m born_before_1990 \u001b[39m=\u001b[39m session\u001b[39m.\u001b[39mquery(BaseballPlayer)\u001b[39m.\u001b[39m\\\n\u001b[1;32m      <a href='vscode-notebook-cell:/Users/home/Desktop/Module_10/climate_starter.ipynb#X21sZmlsZQ%3D%3D?line=5'>6</a>\u001b[0m     \u001b[39mfilter\u001b[39m(BaseballPlayer\u001b[39m.\u001b[39mbirth_year \u001b[39m<\u001b[39m \u001b[39m1990\u001b[39m)\u001b[39m.\u001b[39mcount()\n\u001b[1;32m      <a href='vscode-notebook-cell:/Users/home/Desktop/Module_10/climate_starter.ipynb#X21sZmlsZQ%3D%3D?line=7'>8</a>\u001b[0m \u001b[39mprint\u001b[39m(\u001b[39mf\u001b[39m\u001b[39m\"\u001b[39m\u001b[39m{\u001b[39;00mborn_before_1990\u001b[39m}\u001b[39;00m\u001b[39m players were born before 1990\u001b[39m\u001b[39m\"\u001b[39m)\n",
      "\u001b[0;31mNameError\u001b[0m: name 'surfer' is not defined"
     ]
    }
   ],
   "source": [
    "# Design a query to find the most active stations (i.e. what stations have the most rows?)\n",
    "# List the stations and the counts in descending order.\n",
    "# Average height for pre-1940 players\n",
    "surfer_born_before_1994 = session.query(Surfer).\\\n",
    "    filter(Surfer.birth_year < 1994).count()\n",
    "    \n",
    "surfer_born_before_1994 = session.query(Surfer).\\\n",
    "print(f\"{surfer_born_before_1994} players were born before 1990\")\n",
    "# Design a query to find the most active stations (i.e. what stations have the most rows?)\n",
    "# List the stations and the counts in descending order.\n",
    "# Average height for pre-1940 players\n",
    "surfer_born_before_1940_height.count()\n",
    "\n",
    "surfer_pre_1940_height_list = []\n",
    "for surfer in surfer_born_before_1940_height:\n",
    "    if type(surfer.height) == int:\n",
    "        pre_1940_height_list.append(surfer.height)\n",
    "        \n",
    "mean(surfer_born_before_1940_height)"
   ]
  },
  {
   "cell_type": "code",
   "execution_count": null,
   "metadata": {},
   "outputs": [],
   "source": [
    "# Using the most active station id from the previous query, calculate the lowest, highest, and average temperature.\n"
   ]
  },
  {
   "cell_type": "code",
   "execution_count": null,
   "metadata": {},
   "outputs": [],
   "source": [
    "# Using the most active station id\n",
    "# Query the last 12 months of temperature observation data for this station and plot the results as a histogram\n"
   ]
  },
  {
   "cell_type": "markdown",
   "metadata": {},
   "source": [
    "# Close session"
   ]
  },
  {
   "cell_type": "code",
   "execution_count": null,
   "metadata": {},
   "outputs": [],
   "source": [
    "# Close Session\n",
    "session.close()"
   ]
  },
  {
   "cell_type": "code",
   "execution_count": null,
   "metadata": {},
   "outputs": [],
   "source": []
  }
 ],
 "metadata": {
  "anaconda-cloud": {},
  "kernel_info": {
   "name": "python3"
  },
  "kernelspec": {
   "display_name": "Python 3",
   "language": "python",
   "name": "python3"
  },
  "language_info": {
   "codemirror_mode": {
    "name": "ipython",
    "version": 3
   },
   "file_extension": ".py",
   "mimetype": "text/x-python",
   "name": "python",
   "nbconvert_exporter": "python",
   "pygments_lexer": "ipython3",
   "version": "3.9.13"
  },
  "nteract": {
   "version": "0.12.3"
  },
  "varInspector": {
   "cols": {
    "lenName": 16,
    "lenType": 16,
    "lenVar": 40
   },
   "kernels_config": {
    "python": {
     "delete_cmd_postfix": "",
     "delete_cmd_prefix": "del ",
     "library": "var_list.py",
     "varRefreshCmd": "print(var_dic_list())"
    },
    "r": {
     "delete_cmd_postfix": ") ",
     "delete_cmd_prefix": "rm(",
     "library": "var_list.r",
     "varRefreshCmd": "cat(var_dic_list()) "
    }
   },
   "types_to_exclude": [
    "module",
    "function",
    "builtin_function_or_method",
    "instance",
    "_Feature"
   ],
   "window_display": false
  },
  "vscode": {
   "interpreter": {
    "hash": "38cca0c38332a56087b24af0bc80247f4fced29cb4f7f437d91dc159adec9c4e"
   }
  }
 },
 "nbformat": 4,
 "nbformat_minor": 2
}
